{
 "cells": [
  {
   "cell_type": "code",
   "execution_count": 1,
   "metadata": {},
   "outputs": [],
   "source": [
    "import streamlit as st\n",
    "import os, base64, re, sys\n",
    "from os import makedirs, path\n",
    "from copy import deepcopy\n",
    "from IPython.display import display, Markdown   #, Latex # to display Markdown in code chunk\n",
    "import json, yaml                               # numba, logging, random, dill, logging.config\n",
    "from standard_workflows import *  \n",
    "sys.path.append('../')\n",
    "\n"
   ]
  },
  {
   "cell_type": "code",
   "execution_count": null,
   "metadata": {},
   "outputs": [],
   "source": [
    "dc_dataset = sc_classes.Analysis.new_dataset(sc_classes.Baseanalysis \n",
    "analysis = sc_classes.Analysis(datasets=[\n",
    "            ('01', 'bulkRNA', 'human', dc_dataset)\n",
    "            ], params_path = path.abspath(\"./../../analysis/\"))\n",
    "scl.analysis = analysis\n",
    "print_info(analysis)"
   ]
  }
 ],
 "metadata": {
  "kernelspec": {
   "display_name": "sgui-4UjmygOT-py3.10",
   "language": "python",
   "name": "python3"
  },
  "language_info": {
   "codemirror_mode": {
    "name": "ipython",
    "version": 3
   },
   "file_extension": ".py",
   "mimetype": "text/x-python",
   "name": "python",
   "nbconvert_exporter": "python",
   "pygments_lexer": "ipython3",
   "version": "3.10.6"
  },
  "orig_nbformat": 4
 },
 "nbformat": 4,
 "nbformat_minor": 2
}
