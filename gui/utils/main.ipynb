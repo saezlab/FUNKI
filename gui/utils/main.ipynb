{
 "cells": [
  {
   "cell_type": "code",
   "execution_count": 1,
   "metadata": {},
   "outputs": [],
   "source": [
    "#import streamlit as st\n",
    "#import os, base64, re, \n",
    "import sys\n",
    "from os import makedirs, path\n",
    "#from copy import deepcopy\n",
    "#from IPython.display import display, Markdown   #, Latex # to display Markdown in code chunk\n",
    "#import json, yaml                               # numba, logging, random, dill, logging.config\n",
    "from standard_workflows import *  \n",
    "sys.path.append('../')\n",
    "\n"
   ]
  },
  {
   "cell_type": "code",
   "execution_count": null,
   "metadata": {},
   "outputs": [],
   "source": []
  },
  {
   "cell_type": "code",
   "execution_count": 3,
   "metadata": {},
   "outputs": [
    {
     "name": "stdout",
     "output_type": "stream",
     "text": [
      "{'analysis_path': './', 'data_root_path': '', 'datapath_tmp': './FUNKI/v01/analysis/human/bulkRNA/01/data', 'figpath': './FUNKI/v01/analysis/human/bulkRNA/01/figures', 'resultpath': './FUNKI/v01/analysis/human/bulkRNA/01/results', 'loggingpath': './FUNKI/v01/analysis/human/bulkRNA/01/logging', 'subsetspath': './FUNKI/v01/analysis/human/bulkRNA/01/subsets', 'exec_env_path': '/sds_hd/sd22b002/guest/', 'exec_env_data_path': '/sds_hd/sd22b002/guest/FUNKI/v01/analysis/human/bulkRNA/01/data', 'datapath': '', 'data_root_filename': '01.h5ad', 'datasetpath': 'FUNKI/v01/analysis/human/bulkRNA/01', 'datafilepath': '01.h5ad', 'metadatapath': 'metadata', 'datafilepath_tmp': './FUNKI/v01/analysis/human/bulkRNA/01/data/01.pickle', 'priorknowledge': './FUNKI/v01/analysis/human/bulkRNA/priorKnowledge', 'priorknowledge_tmp': './FUNKI/v01/analysis/human/bulkRNA/priorKnowledge'}\n",
      "Please be aware that no data was read in as no data_root_path was provided.\n"
     ]
    },
    {
     "ename": "NameError",
     "evalue": "name 'print_info' is not defined",
     "output_type": "error",
     "traceback": [
      "\u001b[0;31m---------------------------------------------------------------------------\u001b[0m",
      "\u001b[0;31mNameError\u001b[0m                                 Traceback (most recent call last)",
      "\u001b[1;32m/Users/hanna/Documents/projects/public_saezlab/FUNKI/gui/utils/main.ipynb Cell 3\u001b[0m line \u001b[0;36m8\n\u001b[1;32m      <a href='vscode-notebook-cell:/Users/hanna/Documents/projects/public_saezlab/FUNKI/gui/utils/main.ipynb#W1sZmlsZQ%3D%3D?line=3'>4</a>\u001b[0m analysis \u001b[39m=\u001b[39m sc_classes\u001b[39m.\u001b[39mAnalysis(datasets\u001b[39m=\u001b[39m[\n\u001b[1;32m      <a href='vscode-notebook-cell:/Users/hanna/Documents/projects/public_saezlab/FUNKI/gui/utils/main.ipynb#W1sZmlsZQ%3D%3D?line=4'>5</a>\u001b[0m             (\u001b[39m'\u001b[39m\u001b[39m01\u001b[39m\u001b[39m'\u001b[39m, \u001b[39m'\u001b[39m\u001b[39mbulkRNA\u001b[39m\u001b[39m'\u001b[39m, \u001b[39m'\u001b[39m\u001b[39mhuman\u001b[39m\u001b[39m'\u001b[39m, dc_dataset)\n\u001b[1;32m      <a href='vscode-notebook-cell:/Users/hanna/Documents/projects/public_saezlab/FUNKI/gui/utils/main.ipynb#W1sZmlsZQ%3D%3D?line=5'>6</a>\u001b[0m             ], params_path \u001b[39m=\u001b[39m path\u001b[39m.\u001b[39mabspath(\u001b[39m\"\u001b[39m\u001b[39m./../../FUNKI/v01/analysis/\u001b[39m\u001b[39m\"\u001b[39m))\n\u001b[1;32m      <a href='vscode-notebook-cell:/Users/hanna/Documents/projects/public_saezlab/FUNKI/gui/utils/main.ipynb#W1sZmlsZQ%3D%3D?line=6'>7</a>\u001b[0m scl\u001b[39m.\u001b[39manalysis \u001b[39m=\u001b[39m analysis\n\u001b[0;32m----> <a href='vscode-notebook-cell:/Users/hanna/Documents/projects/public_saezlab/FUNKI/gui/utils/main.ipynb#W1sZmlsZQ%3D%3D?line=7'>8</a>\u001b[0m print_info(analysis)\n",
      "\u001b[0;31mNameError\u001b[0m: name 'print_info' is not defined"
     ]
    }
   ],
   "source": [
    "dc_dataset = sc_classes.Analysis.new_dataset(sc_classes.Baseanalysis, dcu.NfCore) \n",
    "analysis = sc_classes.Analysis(datasets=[\n",
    "            ('01', 'bulkRNA', 'human', dc_dataset)\n",
    "            ], params_path = path.abspath(\"./../../FUNKI/v01/analysis/\"))\n",
    "scl.analysis = analysis\n",
    "print_info(analysis)"
   ]
  },
  {
   "cell_type": "code",
   "execution_count": 8,
   "metadata": {},
   "outputs": [
    {
     "data": {
      "text/plain": [
       "{'analysis_path': './',\n",
       " 'data_root_path': '',\n",
       " 'datapath_tmp': './FUNKI/v01/analysis/human/bulkRNA/01/data',\n",
       " 'figpath': './FUNKI/v01/analysis/human/bulkRNA/01/figures',\n",
       " 'resultpath': './FUNKI/v01/analysis/human/bulkRNA/01/results',\n",
       " 'loggingpath': './FUNKI/v01/analysis/human/bulkRNA/01/logging',\n",
       " 'subsetspath': './FUNKI/v01/analysis/human/bulkRNA/01/subsets',\n",
       " 'exec_env_path': '/sds_hd/sd22b002/guest/',\n",
       " 'exec_env_data_path': '/sds_hd/sd22b002/guest/FUNKI/v01/analysis/human/bulkRNA/01/data',\n",
       " 'datapath': '',\n",
       " 'data_root_filename': '01.h5ad',\n",
       " 'datasetpath': 'FUNKI/v01/analysis/human/bulkRNA/01',\n",
       " 'datafilepath': '01.h5ad',\n",
       " 'metadatapath': 'metadata',\n",
       " 'datafilepath_tmp': './FUNKI/v01/analysis/human/bulkRNA/01/data/01.pickle',\n",
       " 'priorknowledge': './FUNKI/v01/analysis/human/bulkRNA/priorKnowledge',\n",
       " 'priorknowledge_tmp': './FUNKI/v01/analysis/human/bulkRNA/priorKnowledge'}"
      ]
     },
     "execution_count": 8,
     "metadata": {},
     "output_type": "execute_result"
    }
   ],
   "source": [
    "analysis.datasets[0].get_paths()\n"
   ]
  },
  {
   "cell_type": "code",
   "execution_count": 6,
   "metadata": {},
   "outputs": [
    {
     "data": {
      "text/plain": [
       "{'pets': {'snail': {'name': 'Schnucki',\n",
       "   'food': ['Löwenzahn', 'water'],\n",
       "   'sound': ['knusper']},\n",
       "  'dog': {'sound': ['kikerikii'], 'name': 'LittleWauWau'},\n",
       "  'cat': {'name': 'LittleWauWau',\n",
       "   'food': ['add', 'mice'],\n",
       "   'color': 'orange',\n",
       "   'child': {'babyCat': {'name': 'MiniMiez',\n",
       "     'food': ['milk'],\n",
       "     'color': 'yellow with pink dots'}},\n",
       "   'sound': ['kikerikii']}}}"
      ]
     },
     "execution_count": 6,
     "metadata": {},
     "output_type": "execute_result"
    }
   ],
   "source": [
    "dict_2 = {'pets': {'snail': {'name': 'Schnucki',  'food': ['Löwenzahn', 'water'], 'sound': ['knusper',]},\n",
    "                    'replacements_1': {'name': 'LittleWauWau','sound': ['kikerikii']},\n",
    "                   'dog': {'sound': ['wau', 'add', 'grrr']},\n",
    "                    'replacements_2': {'color': 'orange'},\n",
    "                    'cat': {'name': 'Miezy', 'food': ['add', 'mice'], 'color': 'pink & yellow stripes', 'child': {\n",
    "                         'babyCat': {'name': 'MiniMiez', 'food': ['milk'], 'color': 'yellow with pink dots'}}}}}\n",
    "dict_2=sc_funcs.replace_dictvalues(dict_2, 'replacements')\n",
    "sc_funcs.replace_dictvalues(dict_2, 'replacements')\n"
   ]
  },
  {
   "cell_type": "code",
   "execution_count": null,
   "metadata": {},
   "outputs": [],
   "source": []
  }
 ],
 "metadata": {
  "kernelspec": {
   "display_name": "sgui-4UjmygOT-py3.10",
   "language": "python",
   "name": "python3"
  },
  "language_info": {
   "codemirror_mode": {
    "name": "ipython",
    "version": 3
   },
   "file_extension": ".py",
   "mimetype": "text/x-python",
   "name": "python",
   "nbconvert_exporter": "python",
   "pygments_lexer": "ipython3",
   "version": "3.10.6"
  },
  "orig_nbformat": 4
 },
 "nbformat": 4,
 "nbformat_minor": 2
}
