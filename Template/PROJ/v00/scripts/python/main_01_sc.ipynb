{
 "cells": [
  {
   "attachments": {},
   "cell_type": "markdown",
   "id": "48b5738b-fe59-4197-b006-23578f86deca",
   "metadata": {
    "tags": []
   },
   "source": [
    "# PROJ scRNA Pseudobulk Analysis"
   ]
  },
  {
   "attachments": {},
   "cell_type": "markdown",
   "id": "171c418f-064d-48aa-a82c-0d0dd03f25a6",
   "metadata": {},
   "source": [
    "## Init Script"
   ]
  },
  {
   "cell_type": "code",
   "execution_count": null,
   "id": "266715d1",
   "metadata": {},
   "outputs": [],
   "source": [
    "from os import path\n",
    "from IPython.display import display, Markdown \n",
    "import pandas as pd, scanpy as sc\n",
    "pd.set_option('display.max_rows', 500)\n",
    "from standard_workflows import analysis_baseclass as baseclasses\n",
    "from standard_workflows import analysis_loops as al\n",
    "from standard_workflows import decoupler_utility as dcu\n",
    "from standard_workflows import nfcore_utility as nfu\n",
    "from standard_workflows import diffexpr_utility as deu\n",
    "from standard_workflows import preprocessing_utility as preu\n",
    "sc.set_figure_params(dpi=100, color_map = 'viridis_r')\n",
    "sc.settings.verbosity = 1\n",
    "sc.logging.print_header()"
   ]
  },
  {
   "attachments": {},
   "cell_type": "markdown",
   "id": "57fced65",
   "metadata": {},
   "source": [
    "## Bulk-RNA\n",
    "### Init Analysis"
   ]
  },
  {
   "cell_type": "markdown",
   "id": "909f8c9a",
   "metadata": {},
   "source": [
    "Two `analysis` objects are created for the analysis:   \n",
    "\n",
    "- `sc_analysis`: single cell analysis with decoupler\n",
    "- `bulk_analysis`: bulk analysis with nf-core, preprocessing, decoupler\n",
    "We start with the bulk data: \n",
    "1. Create a dataset template that inherits the functionality from all needed modules. \n",
    "2. Use this template to initialise the `analysis` object. Different datasets can use different templates but the provided loops in `al` always loop over all datasets of their attached `analysis` ojbect. This leads to an error if the loop to an module is used that is not available in all datasets. \n",
    "3. Rename `bulk_analysis` to `analysis` to keep the code standardized. \n",
    "4. Attach `analysis` to the `al` module. \n",
    "5. Save the analysis paths and parameters of the `analysis` and all `datasets` to yaml files.\n",
    "6. Optionally print the path and parameter characteristics for all `datasets`.\n",
    "7. As we only look at one dataset in this analysis, we give it a shorter name. To get a specific `dataset` from the list of `datasets` that an `analysis` holds, we can either use the index or the getter method with the name of the `dataset`. The latter is less errorprone. \n",
    "  \n",
    "CAUTION: decoupler use_raw = True"
   ]
  },
  {
   "cell_type": "code",
   "execution_count": null,
   "id": "d0706528",
   "metadata": {},
   "outputs": [],
   "source": [
    "# Create Dataset class. It inherits from other classes dynamically.\n",
    "bulk_dataset_template = baseclasses.Analysis.new_dataset(baseclasses.Baseanalysis, preu.Preprocessing, dcu.Decoupler, deu.DiffExpr) \n",
    "\n",
    "# Init Analysis object\n",
    "bulk_analysis = baseclasses.Analysis(datasets=[\n",
    "            ('01_sc', 'bulkRNA', 'mouse', bulk_dataset_template),\n",
    "            ], params_path = path.abspath(\"./../../analysis/\"))\n",
    "analysis = bulk_analysis\n",
    "al.analysis = analysis\n",
    "analysis.save_paths()\n",
    "#analysis.print_info()\n",
    "\n",
    "ds = analysis.get('01_sc')\n",
    "ds.data"
   ]
  },
  {
   "cell_type": "code",
   "execution_count": null,
   "id": "8d3c7e7b",
   "metadata": {},
   "outputs": [],
   "source": [
    "new = False\n",
    "if not path.exists(ds.paths[\"datafilepath_tmp\"]) or new:  # skip if h5ad fiel already exists\n",
    "    # add interaction column\n",
    "    #ds.data.obs['cluster_isCond_sample'] = ds.data.obs['cluster'].astype('str') + '_' + ds.data.obs['isCond_sample'].astype('str')\n",
    "\n",
    "    # Filter out genes with counts < 10\n",
    "    df = pd.DataFrame(ds.data.X)\n",
    "    genes_to_keep = df.columns[df.sum(axis=0) >= 10]\n",
    "    ds.data = ds.data[:, genes_to_keep]\n",
    "    ds.data.raw = ds.data\n",
    "    ds.preprocess()\n",
    "    ds.plot_filter_expr(raw=True) # y line is min total counts\n",
    "    ds.save_data(ds.paths[\"datafilepath_tmp\"])\n",
    "\n"
   ]
  },
  {
   "cell_type": "markdown",
   "id": "8c6fcc71",
   "metadata": {},
   "source": [
    "## PCAs"
   ]
  },
  {
   "cell_type": "code",
   "execution_count": null,
   "id": "a8f6d3a1",
   "metadata": {},
   "outputs": [],
   "source": [
    "new=False\n",
    "if new:\n",
    "    ds.filter(prev = ds.analysis_params['preprocessing']['basicFilt']['large_n'][0])"
   ]
  },
  {
   "attachments": {},
   "cell_type": "markdown",
   "id": "c1fd7270",
   "metadata": {},
   "source": [
    "**Quality Plots**"
   ]
  },
  {
   "cell_type": "code",
   "execution_count": null,
   "id": "25c218aa",
   "metadata": {},
   "outputs": [],
   "source": [
    "new = False\n",
    "if new == True:\n",
    "    for col in ds.data.obs.columns:\n",
    "        display(Markdown(f'**{col}**'))\n",
    "        print(ds.data.obs[col].value_counts())\n",
    "    ds.plot_obs()"
   ]
  },
  {
   "attachments": {},
   "cell_type": "markdown",
   "id": "19cd00b4",
   "metadata": {},
   "source": [
    "**Number of Ensembl IDs:**"
   ]
  },
  {
   "cell_type": "code",
   "execution_count": null,
   "id": "2014fb60",
   "metadata": {},
   "outputs": [],
   "source": [
    "sum(ds.data.var_names.str.startswith('ENS') )"
   ]
  },
  {
   "attachments": {},
   "cell_type": "markdown",
   "id": "32a91764",
   "metadata": {},
   "source": [
    "## Differential Gene Expression with DeSeq2\n"
   ]
  },
  {
   "cell_type": "code",
   "execution_count": null,
   "id": "dffd3357",
   "metadata": {},
   "outputs": [],
   "source": [
    "@al.loop(ds.analysis_params['diffExpr']['deseq2']['design_factors'], False)\n",
    "def run_deseq_loop(design_factor, ds, filtering, new):\n",
    "    print(design_factor)\n",
    "    ds.run_deseq(design_factor, filtering, new)\n",
    "\n",
    "# Run Deseq2   \n",
    "run_deseq_loop(ds, filtering = 'filtmin10', new = False)"
   ]
  },
  {
   "cell_type": "code",
   "execution_count": null,
   "id": "2c07f5d9",
   "metadata": {},
   "outputs": [],
   "source": [
    "# Get contrasts\n",
    "for k in ds.ddss.keys():\n",
    "    ds.get_contrasts(k, new=True, same_start=True)"
   ]
  },
  {
   "cell_type": "markdown",
   "id": "596ec877",
   "metadata": {},
   "source": [
    "## Decoupler"
   ]
  },
  {
   "cell_type": "code",
   "execution_count": null,
   "id": "94c5d400",
   "metadata": {},
   "outputs": [],
   "source": [
    "ds.get_all_acts()\n",
    "ds.plot_acts_perDds(25,25)"
   ]
  }
 ],
 "metadata": {
  "kernelspec": {
   "display_name": "Python 3 (ipykernel)",
   "language": "python",
   "name": "python3"
  },
  "language_info": {
   "codemirror_mode": {
    "name": "ipython",
    "version": 3
   },
   "file_extension": ".py",
   "mimetype": "text/x-python",
   "name": "python",
   "nbconvert_exporter": "python",
   "pygments_lexer": "ipython3",
   "version": "3.10.6"
  },
  "toc-autonumbering": true,
  "toc-showmarkdowntxt": false,
  "varInspector": {
   "cols": {
    "lenName": 16,
    "lenType": 16,
    "lenVar": 40
   },
   "kernels_config": {
    "python": {
     "delete_cmd_postfix": "",
     "delete_cmd_prefix": "del ",
     "library": "var_list.py",
     "varRefreshCmd": "print(var_dic_list())"
    },
    "r": {
     "delete_cmd_postfix": ") ",
     "delete_cmd_prefix": "rm(",
     "library": "var_list.r",
     "varRefreshCmd": "cat(var_dic_list()) "
    }
   },
   "types_to_exclude": [
    "module",
    "function",
    "builtin_function_or_method",
    "instance",
    "_Feature"
   ],
   "window_display": false
  },
  "vscode": {
   "interpreter": {
    "hash": "f2b85668a5100c2c1ab3c1d1c57dbe0f09b425761260da8ef9d79b270a610336"
   }
  }
 },
 "nbformat": 4,
 "nbformat_minor": 5
}
