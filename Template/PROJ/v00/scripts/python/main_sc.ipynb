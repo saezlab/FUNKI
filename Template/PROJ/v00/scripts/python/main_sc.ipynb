{
 "cells": [
  {
   "attachments": {},
   "cell_type": "markdown",
   "id": "48b5738b-fe59-4197-b006-23578f86deca",
   "metadata": {
    "tags": []
   },
   "source": [
    "# PROJ"
   ]
  },
  {
   "attachments": {},
   "cell_type": "markdown",
   "id": "171c418f-064d-48aa-a82c-0d0dd03f25a6",
   "metadata": {},
   "source": [
    "## Init Script"
   ]
  },
  {
   "cell_type": "code",
   "execution_count": null,
   "id": "266715d1",
   "metadata": {},
   "outputs": [],
   "source": [
    "from os import path\n",
    "import os\n",
    "from IPython.display import display, Markdown \n",
    "import numpy as np, pandas as pd, decoupler as dc, scanpy as sc\n",
    "pd.set_option('display.max_rows', 500)\n",
    "from standard_workflows import analysis_baseclass as baseclasses\n",
    "from standard_workflows import analysis_loops as al\n",
    "from standard_workflows import decoupler_utility as dcu\n",
    "from standard_workflows import nfcore_utility as nfu\n",
    "from standard_workflows import diffexpr_utility as deu\n",
    "from standard_workflows import preprocessing_utility as preu\n",
    "sc.set_figure_params(dpi=100, color_map = 'viridis_r')\n",
    "sc.settings.verbosity = 1\n",
    "sc.logging.print_header()"
   ]
  },
  {
   "cell_type": "markdown",
   "id": "6b3d61a4",
   "metadata": {},
   "source": [
    "## Single Cell"
   ]
  },
  {
   "cell_type": "code",
   "execution_count": null,
   "id": "2fdd96e0",
   "metadata": {},
   "outputs": [],
   "source": [
    "sc_template = baseclasses.Analysis.new_dataset(baseclasses.Baseanalysis, preu.Preprocessing, dcu.Decoupler)\n",
    "sc_analysis = baseclasses.Analysis(datasets=[\n",
    "           ('01', 'scRNA', 'mouse', sc_template)\n",
    "            ], params_path = path.abspath(\"./../../analysis/\"))\n",
    "analysis = sc_analysis\n",
    "al.analysis = analysis\n",
    "#analysis.print_info()\n",
    "analysis.save_paths()\n",
    "ds = analysis.datasets[0]\n",
    "ds.data"
   ]
  },
  {
   "cell_type": "code",
   "execution_count": null,
   "id": "5432c405",
   "metadata": {},
   "outputs": [],
   "source": [
    "ds.data\n",
    "import yaml\n",
    "markerspath = os.path.join(ds.get_paths()['datapath'], ds.get_paths()['celltype_markers'])\n",
    "with open(markerspath, 'r') as file:\n",
    "    markers = yaml.safe_load(file)\n",
    "markers"
   ]
  },
  {
   "cell_type": "markdown",
   "id": "3ea01777",
   "metadata": {},
   "source": [
    "### Read mm10 h5 sample files"
   ]
  },
  {
   "cell_type": "code",
   "execution_count": null,
   "id": "678f9e68",
   "metadata": {},
   "outputs": [],
   "source": [
    "if len(ds.data) <= 0:\n",
    "    samples = {}\n",
    "    dirpath = path.join(ds.paths['datapath'], ds.paths['rawpath'])\n",
    "    with os.scandir(dirpath) as entries:\n",
    "        for entry in entries:\n",
    "            if (not entry.name.startswith('.')):\n",
    "                sampledirname = entry.name\n",
    "                sampledirpath = os.path.join(dirpath, entry.name)\n",
    "                with os.scandir(sampledirpath) as entries:\n",
    "                    for entry in entries:\n",
    "                        if entry.is_file() and entry.name.endswith('h5') and not entry.name.startswith('.'):\n",
    "                            samples[sampledirname] = sc.read_10x_h5(path.join(sampledirpath, entry.name))\n",
    "                            samples[sampledirname].var_names_make_unique()\n",
    "    samples_to_concat = list(samples.values())\n",
    "    # inner join\n",
    "    ds.data = samples_to_concat[0].concatenate(samples_to_concat[1:], batch_key = 'sampleID', batch_categories = list(samples.keys()))"
   ]
  },
  {
   "cell_type": "markdown",
   "id": "2800dc10",
   "metadata": {},
   "source": [
    "### Update mm10 to mm39\n",
    "mm10 was used for the single cell data but the newer release mm39 was used for bulk. Therefore, we'll update the mm10 EnsembleIDs and gene names. \n"
   ]
  },
  {
   "cell_type": "code",
   "execution_count": null,
   "id": "6964f15f",
   "metadata": {},
   "outputs": [],
   "source": [
    "if True in set(ds.data.var['genome'] == 'mm10'):\n",
    "    # To check which EnsemblIDs were updated from mm10 to mm39 \n",
    "    pd.DataFrame(ds.data.var['gene_ids']).to_csv(os.path.join(ds.get_paths()['datapath'], 'ensembl_ids.csv'))\n",
    "    for file_numb in range(0,5):\n",
    "        res = pd.read_csv(os.path.join(ds.get_paths()['datapath'], f'Results-Mus_musculus_Tools_IDMapper_{file_numb}.csv'))\n",
    "        res = res.loc[~(res['Requested ID'] == res['Matched ID(s)'])]\n",
    "        print(res[['Requested ID', 'Matched ID(s)']])\n",
    "\n",
    "    # Rename\n",
    "    old_gene_name = ds.data.var[ds.data.var['gene_ids'] == 'ENSMUSG00000079169'].index # old ensembl id\n",
    "    ds.data.var.loc[old_gene_name,'gene_ids'] = 'ENSMUSG00000027157' # new ensembl id\n",
    "    old_gene_name = ds.data.var[ds.data.var['gene_ids'] == 'ENSMUSG00000085431'].index # old ensembl id\n",
    "    ds.data.var.loc[old_gene_name,'gene_ids'] = 'ENSMUSG00000054510'\n",
    "    old_gene_name = ds.data.var[ds.data.var['gene_ids'] == 'ENSMUSG00000085147'].index # old ensembl id\n",
    "    ds.data.var.loc[old_gene_name,'gene_ids'] = 'ENSMUSG00000054510'\n",
    "    old_gene_name = ds.data.var[ds.data.var['gene_ids'] == 'ENSMUSG00000095316'].index # old ensembl id\n",
    "    ds.data.var.loc[old_gene_name,'gene_ids'] = 'ENSMUSG00000087358'\n",
    "\n",
    "    from pyensembl import EnsemblRelease\n",
    "    ensembldata = EnsemblRelease(ds.analysis_params['preprocessing']['reference_genome_release'], species= ds.organism)\n",
    "\n",
    "    ds.data.var.index = ds.data.var['gene_ids']\n",
    "    ds.set_gene_names(ensembldata)\n",
    "    ds.data.var['genome'] = 'mm10_updatedto_release109'\n",
    "    ds.save_data(ds.paths[\"datafilepath_tmp\"])\n",
    "\n",
    "# To add the metadata, recreate analysis object    "
   ]
  },
  {
   "cell_type": "markdown",
   "id": "a8cdbacb",
   "metadata": {},
   "source": [
    "### Preprocess\n",
    "Set gene names, raw attribute, do preprocessing, save data"
   ]
  },
  {
   "cell_type": "code",
   "execution_count": null,
   "id": "c068f6b8",
   "metadata": {},
   "outputs": [],
   "source": [
    "ds.data.obs['isCond_sample'] = ds.data.obs['isCond_sample'].astype('category')\n",
    "\n",
    "ds.data.raw = ds.data\n",
    "ds.preprocess(input_type='raw')\n",
    "    "
   ]
  },
  {
   "cell_type": "code",
   "execution_count": null,
   "id": "3ccbdffe",
   "metadata": {},
   "outputs": [],
   "source": [
    "new = True\n",
    "if new:\n",
    "    ds.filter(prev = ds.analysis_params['preprocessing']['basicFilt']['large_n'][0], newpcaplots=False, skipviolins = False)\n",
    "else: \n",
    "    ds_filt = ds.read_data(os.path.join(ds.paths[\"datapath\"], 'filtered_prev2.pickle'))"
   ]
  },
  {
   "cell_type": "code",
   "execution_count": null,
   "id": "12cf6750",
   "metadata": {},
   "outputs": [],
   "source": [
    "sc.pl.pca_variance_ratio(ds.data, n_pcs=40, log=True)"
   ]
  },
  {
   "cell_type": "code",
   "execution_count": null,
   "id": "df5e7d3c",
   "metadata": {},
   "outputs": [],
   "source": [
    "#!pip install harmonypy\n",
    "import scanpy.external as sce\n",
    "pca_key = 'X_pca'\n",
    "batch_key = 'sampleID'\n",
    "sce.pp.harmony_integrate(ds.data, key = batch_key, basis=pca_key, adjusted_basis=f'{batch_key}_{pca_key}')\n"
   ]
  },
  {
   "cell_type": "markdown",
   "id": "c6bee2e9",
   "metadata": {},
   "source": [
    "### UMAPS"
   ]
  },
  {
   "cell_type": "code",
   "execution_count": null,
   "id": "acdfccfb",
   "metadata": {},
   "outputs": [],
   "source": [
    "sc.settings.figdir =  os.path.join(sc.settings.figdir , 'umaps')\n",
    "if not os.path.exists(sc.settings.figdir):\n",
    "    os.makedirs(sc.settings.figdir)"
   ]
  },
  {
   "cell_type": "code",
   "execution_count": null,
   "id": "fa4e2f8d",
   "metadata": {},
   "outputs": [],
   "source": [
    "sc.pp.neighbors(ds.data, n_neighbors=15, n_pcs=30)\n",
    "sc.tl.umap(ds.data, random_state=0)\n",
    "resolutions= [0.6]\n",
    "\n",
    "for res in resolutions:\n",
    "    sc.tl.leiden(ds.data, resolution = res, key_added = f'leiden_res{res}')\n",
    "    sc.pl.umap(ds.data, color = ['sampleID', f'leiden_res{res}'], legend_loc='on data', save= f'leiden_res{res}')\n",
    "leiden_name = f'leiden_res{resolutions[0]}'\n",
    "\n",
    "ds.data.obs['cluster'] = ds.data.obs[leiden_name]\n",
    "ds.data.obs['isCond_sample'] = ds.data.obs['isCond_sample'].astype('str')\n",
    "ds.data.obs['isCond_sample'] = ds.data.obs['isCond_sample'].astype('category')\n",
    "ds.data.obs['cluster_isCond_sample'] = ds.data.obs['cluster'].astype('str') + '_' + ds.data.obs['isCond_sample'].astype('str')\n",
    "ds.analysis_params['diffExpr']['conditions'] += ['cluster_isCond_sample']"
   ]
  },
  {
   "cell_type": "code",
   "execution_count": null,
   "id": "2b7141dc",
   "metadata": {},
   "outputs": [],
   "source": [
    "sc.pl.umap(ds.data, color = ['cluster_isCond_sample', leiden_name])\n",
    "al.split_umap(ds.data, color = 'cluster_isCond_sample', split_by='isCond_sample',legend_loc = \"right margin\")"
   ]
  },
  {
   "cell_type": "code",
   "execution_count": null,
   "id": "b8e2d061",
   "metadata": {},
   "outputs": [],
   "source": [
    "use_raw = True\n",
    "gene_symbols = 'gene_name'\n",
    "for group in list(set(ds.data.obs['sampleID'])):\n",
    "    sc.pl.umap(ds.data, color = ['sampleID'], groups = group, save = f'{group}')\n",
    "sc.pl.umap(ds.data, color = ['sampleID', 'isCond_sample', leiden_name])\n"
   ]
  },
  {
   "cell_type": "code",
   "execution_count": null,
   "id": "d4f571a7",
   "metadata": {},
   "outputs": [],
   "source": [
    "sc.settings.figdir =  os.path.join(sc.settings.figdir , 'markers')\n",
    "if not os.path.exists(sc.settings.figdir):\n",
    "    os.makedirs(sc.settings.figdir)"
   ]
  },
  {
   "cell_type": "code",
   "execution_count": null,
   "id": "7747b049",
   "metadata": {},
   "outputs": [],
   "source": [
    "sc.tl.rank_genes_groups(ds.data, leiden_name, method='wilcoxon', layer= 'log', use_raw = False)\n",
    "ranked_genes = sc.get.rank_genes_groups_df(ds.data, None)\n",
    "ranked_genes.to_csv(os.path.join(ds.get_paths()['result_pca_path'], 'ranked_genes.csv'))\n",
    "sc.pl.rank_genes_groups_dotplot(ds.data, n_genes=5, groupby=leiden_name, save='rankedgenes_dotplot.pdf')"
   ]
  },
  {
   "cell_type": "code",
   "execution_count": null,
   "id": "7237ac2c",
   "metadata": {},
   "outputs": [],
   "source": [
    "for clust in ds.data.obs['cluster']:\n",
    "    sc.pl.rank_genes_groups_violin(ds.data, groups=clust, n_genes=10, save = f'violin_cluster{clust}.pdf')\n",
    "    mynames = [x[0] for x in ds.data.uns['rank_genes_groups']['names'][:10]]\n",
    "    sc.pl.stacked_violin(ds.data, markers, groupby = leiden_name, save = f'violinstacked_cluster{clust}.pdf')"
   ]
  },
  {
   "cell_type": "code",
   "execution_count": null,
   "id": "9c3e17ae",
   "metadata": {},
   "outputs": [],
   "source": [
    "markers = {'fibs': ['Col1a1', 'Pdgfra'],\n",
    " 'EC': ['Kdr', 'Pecam1', 'Fabp4'],\n",
    " 'Momac': ['Cd68', 'Itgam'],\n",
    " 'DC': ['Cd209a', 'Itgam', 'H2-Ab1', 'Cd74', 'Itgae'],\n",
    " 'BLC': ['Cd79a', 'Ms4a1'],\n",
    " 'TLC': ['Cd3d', 'Cd3e', 'Lef1'],\n",
    " 'NK': ['Klrk1', 'Klrb1b', 'Ccl5'],\n",
    " 'Gran': ['S100a8', 'S100a9'],\n",
    " 'SMC': ['Rgs5', 'Vtn', 'Kcnj8', 'Cspg4', 'Pdgfrb']}"
   ]
  },
  {
   "cell_type": "code",
   "execution_count": null,
   "id": "f3b821a0",
   "metadata": {},
   "outputs": [],
   "source": [
    "# Please adjust\n",
    "def label_cluster(row):\n",
    "    if row[leiden_name] == 0:\n",
    "      return 'Fib_act'\n",
    "    if row[leiden_name] == 1:\n",
    "      return 'Momac'\n",
    "ds.data.obs.apply(label_cluster, axis=1)\n"
   ]
  },
  {
   "cell_type": "code",
   "execution_count": null,
   "id": "380c5def",
   "metadata": {},
   "outputs": [],
   "source": [
    "ax = sc.pl.dotplot(ds.data, marker, groupby='leiden_res0.6', dendrogram=True, standard_scale = 'var')\n"
   ]
  },
  {
   "cell_type": "markdown",
   "id": "726f744f",
   "metadata": {},
   "source": [
    "## Pseudobulk"
   ]
  },
  {
   "cell_type": "code",
   "execution_count": null,
   "id": "c6b05b41",
   "metadata": {},
   "outputs": [],
   "source": [
    "all_subs = ds.data.raw.to_adata()\n",
    "all_subs.layers['counts'] = all_subs.X\n",
    "pdata = dc.get_pseudobulk(\n",
    "    all_subs,\n",
    "    sample_col='sampleID',\n",
    "    groups_col='leiden_res0.6',\n",
    "    layer='counts',\n",
    "    mode='sum',\n",
    "    min_cells=0,\n",
    "    min_counts=0\n",
    ")\n",
    "pdata\n"
   ]
  },
  {
   "cell_type": "code",
   "execution_count": null,
   "id": "a173bc04",
   "metadata": {},
   "outputs": [],
   "source": [
    "import dill\n",
    "with open(os.path.join(ds.get_paths()['datapath'], '01_sc.pickle'), \"wb\") as dill_file:\n",
    "                dill.dump(pdata, dill_file). \n",
    "# Move this file into a new dataset folder under 'bulkRNA'. Run a normal bulk analysis on it."
   ]
  },
  {
   "cell_type": "markdown",
   "id": "88181939",
   "metadata": {},
   "source": [
    "## Decoupler  \n",
    "\n",
    "For each dataset the activities are estimated according to the given prior knowledge and decoupler parameters. "
   ]
  },
  {
   "cell_type": "code",
   "execution_count": null,
   "id": "e566fcd5",
   "metadata": {},
   "outputs": [],
   "source": [
    "import copy\n",
    "data = copy.deepcopy(ds.data)\n",
    "saved_ds = copy.deepcopy(ds)\n",
    "data.X = data.layers['log']\n",
    "ds.data = data"
   ]
  },
  {
   "cell_type": "code",
   "execution_count": null,
   "id": "34fdd8d3",
   "metadata": {},
   "outputs": [],
   "source": [
    "ds.get_all_acts(new = True)\n",
    "#al.plot_violin('isCond_sample')\n",
    "#al.plot_violin('sampleID')\n",
    "al.plot_umap()\n",
    "al.get_mean_acts()\n",
    "import seaborn as sns\n",
    "al.plot_mean_acts()\n"
   ]
  }
 ],
 "metadata": {
  "kernelspec": {
   "display_name": "Python 3 (ipykernel)",
   "language": "python",
   "name": "python3"
  },
  "language_info": {
   "codemirror_mode": {
    "name": "ipython",
    "version": 3
   },
   "file_extension": ".py",
   "mimetype": "text/x-python",
   "name": "python",
   "nbconvert_exporter": "python",
   "pygments_lexer": "ipython3",
   "version": "3.10.6"
  },
  "toc-autonumbering": true,
  "toc-showmarkdowntxt": false,
  "varInspector": {
   "cols": {
    "lenName": 16,
    "lenType": 16,
    "lenVar": 40
   },
   "kernels_config": {
    "python": {
     "delete_cmd_postfix": "",
     "delete_cmd_prefix": "del ",
     "library": "var_list.py",
     "varRefreshCmd": "print(var_dic_list())"
    },
    "r": {
     "delete_cmd_postfix": ") ",
     "delete_cmd_prefix": "rm(",
     "library": "var_list.r",
     "varRefreshCmd": "cat(var_dic_list()) "
    }
   },
   "types_to_exclude": [
    "module",
    "function",
    "builtin_function_or_method",
    "instance",
    "_Feature"
   ],
   "window_display": false
  },
  "vscode": {
   "interpreter": {
    "hash": "f2b85668a5100c2c1ab3c1d1c57dbe0f09b425761260da8ef9d79b270a610336"
   }
  }
 },
 "nbformat": 4,
 "nbformat_minor": 5
}
