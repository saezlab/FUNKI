{
 "cells": [
  {
   "cell_type": "markdown",
   "metadata": {},
   "source": [
    "# GUI with Panel"
   ]
  },
  {
   "cell_type": "code",
   "execution_count": null,
   "metadata": {},
   "outputs": [],
   "source": [
    "#import io\n",
    "#import param\n",
    "import panel as pn\n",
    "import scanpy\n",
    "#import pandas as pd\n",
    "import random\n",
    "import json\n",
    "#from . import analysis_params as ap\n",
    "#from datetime import datetime, timedelta\n",
    "#import plotly.express as px\n",
    "#pn.extension('ace', 'jsoneditor', 'plotly', 'tabulator')"
   ]
  },
  {
   "cell_type": "code",
   "execution_count": null,
   "metadata": {},
   "outputs": [],
   "source": [
    "css = '''\n",
    ".bk.panel-widget-box {\n",
    "  #background: #fefefe;\n",
    "  border-radius: 5px;\n",
    "  border: 1px black solid;\n",
    "  font-weight: 700;\n",
    "}\n",
    ".custom{\n",
    "    background-color: #ffc107;\n",
    "    color: aliceblue;\n",
    "}\n",
    "\n",
    "h2{\n",
    "    backgound-color: pink;\n",
    "}\n",
    "\n",
    "'''\n",
    "\n",
    "pn.extension(raw_css=[css], sizing_mode=\"stretch_width\")"
   ]
  },
  {
   "cell_type": "code",
   "execution_count": null,
   "metadata": {},
   "outputs": [],
   "source": [
    "import anndata\n",
    "\n",
    "\n",
    "pn.extension(template='fast')\n",
    "\n",
    "data = anndata.AnnData()\n",
    "\n",
    "# Basic paramters to set\n",
    "projName    = pn.widgets.TextInput(name = 'Full Project Name', placeholder = 'aNameWithoutSpaces')\n",
    "projID      = pn.widgets.TextInput(name = 'Project ID ', placeholder = 'two to six capital letters')\n",
    "version     = pn.widgets.TextInput(name = 'Analysis Version', placeholder = 'v01')\n",
    "host        = pn.widgets.Select(name = 'Host',  options=['human', 'mouse'])\n",
    "datasetname = pn.widgets.TextInput(name = 'Dataset Name', placeholder = 'all_tumor_liver_pid12pid14')\n",
    "seqType     = pn.widgets.Select(name = 'Sequencing Type',  options=['sc', 'sn', 'atac', 'bulk'])\n",
    "param_editor        = pn.widgets.JSONEditor(value= ap.analysis_params, width=400, height=800)\n",
    "results_folder_path = pn.widgets.TextInput(name = 'Results Folder Path', placeholder = 'path to where to save the results folder')\n",
    "dataset_source      = pn.widgets.TextInput(name = 'Data Filepath')\n",
    "\n",
    "def _download_params(e):\n",
    "  import yaml\n",
    "  paths = set_paths()\n",
    "  ff = open(paths['analysis_params'], 'w+')\n",
    "  yaml.dump(param_editor.value, ff)\n",
    "\n",
    "# Buttons\n",
    "upload_params = pn.widgets.Button(name = 'Upload Parameter File')\n",
    "download_params = pn.widgets.Button(name='Download Data', button_type='primary')\n",
    "add_data = pn.widgets.Button(name='Upload Data', button_type='primary')\n",
    "buttons = pn.Column( 'Upload Parameters', upload_params, download_params, width=300)\n",
    "\n",
    "\n",
    "def _upload_params(e):\n",
    "  import yaml\n",
    "  from yaml.loader import BaseLoader\n",
    "  paths = set_paths()\n",
    "  with open(paths['analysis_params']) as stream:\n",
    "#    try:\n",
    "      param_editor.value = yaml.load(stream, Loader=BaseLoader)\n",
    " #   except yaml.YAMLError as exc:\n",
    " #     alert_text = (\"Please add data first as the project structure with the default analysis_params.yaml file will be generated automatically then.\")\n",
    " #     pn.Column(pn.pane.Alert(alert_text.format(alert_type='warning'), alert_type='warning'),sizing_mode='stretch_width')\n",
    "\n",
    "def _add_data(e):\n",
    "  paths = set_paths()\n",
    "  import scanpy\n",
    "  data = scanpy.read_h5ad(paths['dataset_source'])\n",
    "  from pathlib import Path\n",
    "  Path(paths['dataset_folder']).mkdir(parents=True, exist_ok=True)\n",
    "  data.write_h5ad(paths['dataset_file'])\n",
    "\n",
    "\n",
    "add_data.on_click(_add_data)\n",
    "download_params.on_click(_download_params)\n",
    "upload_params.on_click(_upload_params)\n",
    "\n",
    "ui = pn.Row(pn.Column('## Basic Project Definition', projName, projID, version, host, datasetname, seqType, pn.layout.Divider(), \n",
    "                      '## Upload Dataset', dataset_source, results_folder_path, add_data, pn.layout.Divider(), \n",
    "                      '## Up- & Download Parameters', buttons), pn.Spacer(width=100), pn.Column(\n",
    "                      '## Adjust Parameters', \"If no paramter file is uploaded, default paramters are shown. If you are finished with adjusting them, don't forget to push the download button.\", \n",
    "                      param_editor, max_width = 400), css_classes=['panel-widget-box']).servable(area='main')\n",
    "\n",
    "def set_paths() -> dict:\n",
    "  \"\"\" Defines basic file & folder paths for receiving and storing data. These paths are needed to initialize the analysis. \"\"\"\n",
    "  paths = {\n",
    "    'dataset_source' : dataset_source.value,\n",
    "    'dataset_folder' : os.path.join(results_folder_path.value, projID.value, version.value, host.value, seqType.value, datasetname.value, 'data')\n",
    "  }\n",
    "  pahts = paths.update({\n",
    "    'dataset_file': os.path.join(paths['dataset_folder'], 'data.h5ad'),\n",
    "    'analysis_params': os.path.join(results_folder_path.value, projID.value, 'analysis_params.yaml')\n",
    "  })\n",
    "  return paths\n",
    "\n",
    "  # initialize with default values for testing purposes\n",
    "projName.value, projID.value, version.value, datasetname.value, dataset_source.value, results_folder_path.value = ['MBEN_Test', 'MBEN_T', 'v00', 'test', '/Users/hanna/Documents/projects/MBEN/all_cnvsNormal/data/all_cnvsNormal.h5ad', '/Users/hanna/Documents/projects/Workflows/standard-workflows/docs/']\n",
    "  ## Define paths\n",
    "\n",
    "\n",
    "#pn.serve(pn.Column(pn.pane.Markdown('# Funki').servable(area='sidebar'), ui.servable(area='main')))\n",
    "template = pn.template.FastListTemplate(\n",
    "    title=\"Fast Panel App\",\n",
    "    logo=\"https://panel.holoviz.org/_static/logo_stacked.png\"\n",
    ")\n",
    "\n",
    "m = pn.pane.Markdown('# Funki').servable(area='sidebar')\n",
    "template.servable()\n",
    "pn.serve(template, m)\n",
    "\n",
    "\n"
   ]
  },
  {
   "cell_type": "code",
   "execution_count": null,
   "metadata": {},
   "outputs": [],
   "source": [
    "\n",
    "import panel as pn\n",
    "from panel.template import DarkTheme, DefaultTheme\n",
    "\n",
    "#css_files = ['./style.css']\n",
    "#pn.extension(css_files=css_files)\n",
    "template = pn.template.FastGridTemplate(title='FUNKI', sidebar_footer=\"hello I'm the footer\", theme=DefaultTheme, accent='black')#\"#A01346\")\n",
    "template = pn.template.MaterialTemplate(title='FUNKI', sidebar_footer=\"hello I'm the footer\", theme=DefaultTheme, accent='black')#\"#A01346\")\n",
    "template = pn.template.BootstrapTemplate(title='FUNKI', sidebar_footer=\"hello I'm the footer\", theme=DefaultTheme, accent='black')#\"#A01346\")\n",
    "template = pn.template.VanillaTemplate(title='FUNKI', sidebar_footer=\"hello I'm the footer\", theme=DefaultTheme, accent='black')#\"#A01346\")\n",
    "template = pn.template.FastGridTemplate(title='FUNKI', sidebar_footer=\"hello I'm the footer\", theme=DefaultTheme, accent='black')#\"#A01346\")\n",
    "template = pn.template.GoldenTemplate(title='FUNKI', sidebar_footer=\"hello I'm the footer\", theme=DefaultTheme, header_background ='black')#\"#A01346\")\n",
    "\n",
    "\n",
    "\n",
    "\n",
    "\n",
    "\n",
    "#template = pn.Template(tmpl)\n",
    "\n",
    "pn.config.sizing_mode = 'stretch_width'\n",
    "\n",
    "\n",
    "\n",
    "#dashboard side\n",
    "template.sidebar.append(pn.pane.Markdown(\"## Settings\"))\n",
    "template.sidebar.append(m)\n",
    "template.sidebar.append(m)\n",
    "#dashboard focal\n",
    "#template.main[:3, :6] = ui\n",
    "template.main.append(pn.Row(\n",
    "        pn.Card(ui)))\n",
    "template.main.append(pn.Row(\n",
    "        pn.Card(ui)))\n",
    "tabs = pn.Tabs(('Scatter', m), ui)\n",
    "\n",
    "template.main.append(pn.Row(\n",
    "        pn.Card(tabs)))\n",
    "\n",
    "template.show();"
   ]
  },
  {
   "cell_type": "code",
   "execution_count": null,
   "metadata": {},
   "outputs": [],
   "source": [
    "pn.extension(..., template=\"fast\")\n",
    "pn.state.template.param.update(site=\"Panel\", title=\"FastListTemplate\")\n",
    "m = pn.pane.Markdown(\"## Settings\").servable(target=\"sidebar\")\n",
    "pn.serve(m)"
   ]
  },
  {
   "cell_type": "code",
   "execution_count": null,
   "metadata": {},
   "outputs": [],
   "source": [
    "import yaml\n",
    "from yaml.loader import BaseLoader\n",
    "with open('/Users/hanna/Documents/projects/Workflows/standard-workflows/docs/MBEN_T/analysis_params.yaml') as stream:\n",
    "    d = yaml.load(stream, Loader=BaseLoader)\n",
    "print(d)"
   ]
  },
  {
   "cell_type": "code",
   "execution_count": null,
   "metadata": {},
   "outputs": [],
   "source": [
    "import panel as pn\n",
    "\n"
   ]
  },
  {
   "cell_type": "code",
   "execution_count": null,
   "metadata": {},
   "outputs": [],
   "source": [
    "analysis_init.proj_data_folder_path"
   ]
  },
  {
   "cell_type": "code",
   "execution_count": null,
   "metadata": {},
   "outputs": [],
   "source": [
    "import yaml\n",
    "m=list(yaml.load(stream.read)\n",
    "print(m)"
   ]
  },
  {
   "cell_type": "code",
   "execution_count": null,
   "metadata": {},
   "outputs": [],
   "source": [
    "        \n",
    "   \n",
    "\n",
    "    @pn.depends('file_name', watch=True)\n",
    "    def _update_filename(self):\n",
    "        self.download.filename = self.file_name\n",
    "\n",
    "\n",
    "        \n",
    "    def update_sample_df(self, event=None):\n",
    "        self.analysis_params = ap.analysis_params\n",
    "    \n",
    "    @pn.depends(\"sample_df\", watch=True)\n",
    "    def _update_table(self):\n",
    "        if hasattr(self, \"table\"):\n",
    "            self.table.value = self.sample_df.head(10)\n",
    "    \n",
    "    def save_sample_data(self, event=None):\n",
    "        if not self.sample_df is None:\n",
    "            self.sample_df\n",
    "            \n",
    "    def view(self):\n",
    "        return pn.Column(\n",
    "            \"## Generate and Download Data\",\n",
    "            pn.Row(\n",
    "                pn.Param(self, parameters=['generate_sample_df'], show_name=False, widgets={\"generate_sample_df\": {\"button_type\": \"primary\"}}),\n",
    "                pn.Column(self.param.file_name, self.download, align='end', margin=(10,5,5,5)),\n",
    "            ),\n",
    "            \"**Sample data (10 Rows)**\",\n",
    "            self.table,\n",
    "        )\n",
    "\n",
    "sample_data_app = SampleDataApp()\n",
    "sample_data_app_view = sample_data_app.view()\n",
    "sample_data_app_view"
   ]
  },
  {
   "cell_type": "markdown",
   "metadata": {},
   "source": [
    "**Click the `Save sample df` button**\n",
    "\n",
    "This should save the dataframe to your default download folder. Now let us define the `VoltageApp` which will display the data we just generated."
   ]
  },
  {
   "cell_type": "code",
   "execution_count": null,
   "metadata": {},
   "outputs": [],
   "source": [
    "class VoltageApp(param.Parameterized):\n",
    "    data = param.DataFrame()\n",
    "    \n",
    "    file_input = param.Parameter()\n",
    "    \n",
    "    def __init__(self, **params):\n",
    "        super().__init__(file_input=pn.widgets.FileInput(), **params)\n",
    "        self.plotly_pane = pn.pane.Plotly(height=400, sizing_mode=\"stretch_width\")\n",
    "\n",
    "    @pn.depends(\"file_input.value\", watch=True)\n",
    "    def _parse_file_input(self):\n",
    "        value = self.file_input.value\n",
    "        if value:\n",
    "            string_io = io.StringIO(value.decode(\"utf8\"))\n",
    "            self.data = pd.read_csv(string_io, parse_dates=[\"Time\"])\n",
    "        else:\n",
    "            print(\"error\")\n",
    "\n",
    "    @pn.depends('data', watch=True)\n",
    "    def get_plot(self):\n",
    "        df = self.data\n",
    "        if df is None:\n",
    "            return\n",
    "        assert (\"Voltage\" in df.columns) and (\"Time\" in df.columns), \"no columns voltage and time\"\n",
    "        df = (df.loc[df['Voltage'] != 'Invalid/Calib']).copy(deep=True)\n",
    "        df['Voltage'] = df['Voltage'].astype(float)\n",
    "        if \"FubId\" in df.columns:\n",
    "            p = px.scatter(df, x=\"Time\", y=\"Voltage\", color=\"FubId\")\n",
    "        else:\n",
    "            p = px.scatter(df, x=\"Time\", y=\"Voltage\")\n",
    "        self.plotly_pane.object = p\n",
    "        \n",
    "    def view(self):\n",
    "        return pn.Column(\n",
    "            \"## Upload and Plot Data\",\n",
    "            self.file_input,\n",
    "            self.plotly_pane,\n",
    "        )\n",
    "    \n",
    "voltage_app = VoltageApp()\n",
    "\n",
    "voltage_app_view = voltage_app.view()\n",
    "voltage_app_view"
   ]
  },
  {
   "cell_type": "markdown",
   "metadata": {},
   "source": [
    "Now let us put these two components together into a servable app:"
   ]
  },
  {
   "cell_type": "code",
   "execution_count": null,
   "metadata": {},
   "outputs": [],
   "source": [
    "description = \"\"\"\n",
    "This application demonstrates the ability to **download** a file using the `FileDownload` widget \n",
    "and **upload** a file using the `FileInput` widget.\n",
    "</br></br>\n",
    "Try filtering the data, download the file by clicking on the Download button\n",
    "and then plot it on the right by uploading that same file.\n",
    "\"\"\"\n",
    "\n",
    "component = pn.Column(\n",
    "    description,\n",
    "    #sample_data_app_view,\n",
    "    voltage_app_view,\n",
    "    sizing_mode='stretch_both'\n",
    ")\n",
    "component"
   ]
  },
  {
   "cell_type": "markdown",
   "metadata": {},
   "source": [
    "## App\n",
    "\n",
    "Lets wrap it into nice template that can be served via `panel serve download_upload_csv.ipynb`"
   ]
  },
  {
   "cell_type": "code",
   "execution_count": null,
   "metadata": {},
   "outputs": [],
   "source": [
    "pn.template.FastListTemplate(site=\"Panel\", title=\"Download and Upload CSV File\", main=[ description, \n",
    "#sample_data_app_view, \n",
    "voltage_app_view,]).servable();"
   ]
  },
  {
   "cell_type": "code",
   "execution_count": null,
   "metadata": {},
   "outputs": [],
   "source": [
    "pn.serve(component)"
   ]
  },
  {
   "cell_type": "code",
   "execution_count": null,
   "metadata": {},
   "outputs": [],
   "source": []
  }
 ],
 "metadata": {
  "kernelspec": {
   "display_name": "Python 3.9.15 ('docs-KOu2nnrD-py3.9')",
   "language": "python",
   "name": "python3"
  },
  "language_info": {
   "codemirror_mode": {
    "name": "ipython",
    "version": 3
   },
   "file_extension": ".py",
   "mimetype": "text/x-python",
   "name": "python",
   "nbconvert_exporter": "python",
   "pygments_lexer": "ipython3",
   "version": "3.9.15"
  },
  "varInspector": {
   "cols": {
    "lenName": 16,
    "lenType": 16,
    "lenVar": 40
   },
   "kernels_config": {
    "python": {
     "delete_cmd_postfix": "",
     "delete_cmd_prefix": "del ",
     "library": "var_list.py",
     "varRefreshCmd": "print(var_dic_list())"
    },
    "r": {
     "delete_cmd_postfix": ") ",
     "delete_cmd_prefix": "rm(",
     "library": "var_list.r",
     "varRefreshCmd": "cat(var_dic_list()) "
    }
   },
   "types_to_exclude": [
    "module",
    "function",
    "builtin_function_or_method",
    "instance",
    "_Feature"
   ],
   "window_display": false
  },
  "vscode": {
   "interpreter": {
    "hash": "32e558f78267b1f0192665697d5ea62a3c7fa8c3821ae842a44e844df5b215b4"
   }
  }
 },
 "nbformat": 4,
 "nbformat_minor": 2
}
