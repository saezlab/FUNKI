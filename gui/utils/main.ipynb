{
 "cells": [
  {
   "cell_type": "code",
   "execution_count": 4,
   "metadata": {},
   "outputs": [],
   "source": [
    "#import streamlit as st\n",
    "#import os, base64, re, \n",
    "import sys\n",
    "from os import makedirs, path\n",
    "#from copy import deepcopy\n",
    "#from IPython.display import display, Markdown   #, Latex # to display Markdown in code chunk\n",
    "#import json, yaml                               # numba, logging, random, dill, logging.config\n",
    "from standard_workflows import sc_analysis_baseclass as sc_classes\n",
    "from standard_workflows import sc_analysis_loops as scl\n",
    "from standard_workflows import sc_decoupler_utility as dcu\n",
    "sys.path.append('../')\n",
    "\n"
   ]
  },
  {
   "cell_type": "code",
   "execution_count": null,
   "metadata": {},
   "outputs": [],
   "source": []
  },
  {
   "cell_type": "code",
   "execution_count": 5,
   "metadata": {},
   "outputs": [
    {
     "ename": "KeyError",
     "evalue": "'exec_env_path'",
     "output_type": "error",
     "traceback": [
      "\u001b[0;31m---------------------------------------------------------------------------\u001b[0m",
      "\u001b[0;31mKeyError\u001b[0m                                  Traceback (most recent call last)",
      "\u001b[1;32m/Users/hanna/Documents/projects/public_saezlab/FUNKI/gui/utils/main.ipynb Cell 3\u001b[0m line \u001b[0;36m2\n\u001b[1;32m      <a href='vscode-notebook-cell:/Users/hanna/Documents/projects/public_saezlab/FUNKI/gui/utils/main.ipynb#W2sZmlsZQ%3D%3D?line=0'>1</a>\u001b[0m dc_dataset \u001b[39m=\u001b[39m sc_classes\u001b[39m.\u001b[39mAnalysis\u001b[39m.\u001b[39mnew_dataset(sc_classes\u001b[39m.\u001b[39mBaseanalysis, dcu\u001b[39m.\u001b[39mNfCore) \n\u001b[0;32m----> <a href='vscode-notebook-cell:/Users/hanna/Documents/projects/public_saezlab/FUNKI/gui/utils/main.ipynb#W2sZmlsZQ%3D%3D?line=1'>2</a>\u001b[0m analysis \u001b[39m=\u001b[39m sc_classes\u001b[39m.\u001b[39;49mAnalysis(datasets\u001b[39m=\u001b[39;49m[\n\u001b[1;32m      <a href='vscode-notebook-cell:/Users/hanna/Documents/projects/public_saezlab/FUNKI/gui/utils/main.ipynb#W2sZmlsZQ%3D%3D?line=2'>3</a>\u001b[0m             (\u001b[39m'\u001b[39;49m\u001b[39m01\u001b[39;49m\u001b[39m'\u001b[39;49m, \u001b[39m'\u001b[39;49m\u001b[39mbulkRNA\u001b[39;49m\u001b[39m'\u001b[39;49m, \u001b[39m'\u001b[39;49m\u001b[39mhuman\u001b[39;49m\u001b[39m'\u001b[39;49m, dc_dataset)\n\u001b[1;32m      <a href='vscode-notebook-cell:/Users/hanna/Documents/projects/public_saezlab/FUNKI/gui/utils/main.ipynb#W2sZmlsZQ%3D%3D?line=3'>4</a>\u001b[0m             ], params_path \u001b[39m=\u001b[39;49m path\u001b[39m.\u001b[39;49mabspath(\u001b[39m\"\u001b[39;49m\u001b[39m./../../FUNKI/v01/analysis/\u001b[39;49m\u001b[39m\"\u001b[39;49m))\n\u001b[1;32m      <a href='vscode-notebook-cell:/Users/hanna/Documents/projects/public_saezlab/FUNKI/gui/utils/main.ipynb#W2sZmlsZQ%3D%3D?line=4'>5</a>\u001b[0m scl\u001b[39m.\u001b[39manalysis \u001b[39m=\u001b[39m analysis\n\u001b[1;32m      <a href='vscode-notebook-cell:/Users/hanna/Documents/projects/public_saezlab/FUNKI/gui/utils/main.ipynb#W2sZmlsZQ%3D%3D?line=5'>6</a>\u001b[0m print_info(analysis)\n",
      "File \u001b[0;32m~/Documents/projects/public_saezlab/FUNKI/Workflows/standard-workflows/standard_workflows/sc_analysis_baseclass.py:189\u001b[0m, in \u001b[0;36mAnalysis.__init__\u001b[0;34m(self, datasets, params_path)\u001b[0m\n\u001b[1;32m    187\u001b[0m \u001b[39mself\u001b[39m\u001b[39m.\u001b[39m__paths \u001b[39m=\u001b[39m deepcopy(\u001b[39mself\u001b[39m\u001b[39m.\u001b[39manalysis_params[\u001b[39m\"\u001b[39m\u001b[39mproj_params\u001b[39m\u001b[39m\"\u001b[39m][\u001b[39m\"\u001b[39m\u001b[39mpaths\u001b[39m\u001b[39m\"\u001b[39m])\n\u001b[1;32m    188\u001b[0m \u001b[39m# Create datasets\u001b[39;00m\n\u001b[0;32m--> 189\u001b[0m \u001b[39mself\u001b[39m\u001b[39m.\u001b[39mdatasets \u001b[39m=\u001b[39m [constructor(name, seq_type, organism, \u001b[39mself\u001b[39m\u001b[39m.\u001b[39manalysis_params, deepcopy(\u001b[39mself\u001b[39m\u001b[39m.\u001b[39m__paths)) \u001b[39mfor\u001b[39;00m name, seq_type, organism, constructor \u001b[39min\u001b[39;00m datasets]        \n\u001b[1;32m    190\u001b[0m \u001b[39mself\u001b[39m\u001b[39m.\u001b[39minit_datasets()\n",
      "File \u001b[0;32m~/Documents/projects/public_saezlab/FUNKI/Workflows/standard-workflows/standard_workflows/sc_analysis_baseclass.py:189\u001b[0m, in \u001b[0;36m<listcomp>\u001b[0;34m(.0)\u001b[0m\n\u001b[1;32m    187\u001b[0m \u001b[39mself\u001b[39m\u001b[39m.\u001b[39m__paths \u001b[39m=\u001b[39m deepcopy(\u001b[39mself\u001b[39m\u001b[39m.\u001b[39manalysis_params[\u001b[39m\"\u001b[39m\u001b[39mproj_params\u001b[39m\u001b[39m\"\u001b[39m][\u001b[39m\"\u001b[39m\u001b[39mpaths\u001b[39m\u001b[39m\"\u001b[39m])\n\u001b[1;32m    188\u001b[0m \u001b[39m# Create datasets\u001b[39;00m\n\u001b[0;32m--> 189\u001b[0m \u001b[39mself\u001b[39m\u001b[39m.\u001b[39mdatasets \u001b[39m=\u001b[39m [constructor(name, seq_type, organism, \u001b[39mself\u001b[39;49m\u001b[39m.\u001b[39;49manalysis_params, deepcopy(\u001b[39mself\u001b[39;49m\u001b[39m.\u001b[39;49m__paths)) \u001b[39mfor\u001b[39;00m name, seq_type, organism, constructor \u001b[39min\u001b[39;00m datasets]        \n\u001b[1;32m    190\u001b[0m \u001b[39mself\u001b[39m\u001b[39m.\u001b[39minit_datasets()\n",
      "File \u001b[0;32m~/Documents/projects/public_saezlab/FUNKI/Workflows/standard-workflows/standard_workflows/sc_analysis_baseclass.py:162\u001b[0m, in \u001b[0;36mAnalysis.new_dataset.<locals>.Dataset.__init__\u001b[0;34m(self, name, seq_type, organism, analysis_params, paths)\u001b[0m\n\u001b[1;32m    152\u001b[0m \u001b[39mdef\u001b[39;00m \u001b[39m__init__\u001b[39m(\u001b[39mself\u001b[39m, name, seq_type, organism, analysis_params, paths):\n\u001b[1;32m    153\u001b[0m \u001b[39m    \u001b[39m\u001b[39m\"\"\"Set up of new dataset. \u001b[39;00m\n\u001b[1;32m    154\u001b[0m \n\u001b[1;32m    155\u001b[0m \u001b[39m    Args:\u001b[39;00m\n\u001b[0;32m   (...)\u001b[0m\n\u001b[1;32m    160\u001b[0m \u001b[39m        paths (dict): from \"Analysis\" obj\u001b[39;00m\n\u001b[1;32m    161\u001b[0m \u001b[39m    \"\"\"\u001b[39;00m                \n\u001b[0;32m--> 162\u001b[0m     \u001b[39msuper\u001b[39;49m()\u001b[39m.\u001b[39;49m\u001b[39m__init__\u001b[39;49m(name, seq_type, organism, analysis_params, paths)\n",
      "File \u001b[0;32m~/Documents/projects/public_saezlab/FUNKI/Workflows/standard-workflows/standard_workflows/sc_analysis_baseclass.py:93\u001b[0m, in \u001b[0;36mBaseanalysis.__init__\u001b[0;34m(self, name, seq_type, organism, analysis_params, paths)\u001b[0m\n\u001b[1;32m     90\u001b[0m \u001b[39mfor\u001b[39;00m dictentryname, foldername \u001b[39min\u001b[39;00m \u001b[39mzip\u001b[39m([\u001b[39m\"\u001b[39m\u001b[39mdatapath_tmp\u001b[39m\u001b[39m\"\u001b[39m, \u001b[39m\"\u001b[39m\u001b[39mfigpath\u001b[39m\u001b[39m\"\u001b[39m, \u001b[39m\"\u001b[39m\u001b[39mresultpath\u001b[39m\u001b[39m\"\u001b[39m, \u001b[39m\"\u001b[39m\u001b[39mloggingpath\u001b[39m\u001b[39m\"\u001b[39m, \u001b[39m\"\u001b[39m\u001b[39msubsetspath\u001b[39m\u001b[39m\"\u001b[39m],  [datafoldername, \u001b[39m\"\u001b[39m\u001b[39mfigures\u001b[39m\u001b[39m\"\u001b[39m, \u001b[39m\"\u001b[39m\u001b[39mresults\u001b[39m\u001b[39m\"\u001b[39m, \u001b[39m\"\u001b[39m\u001b[39mlogging\u001b[39m\u001b[39m\"\u001b[39m, \u001b[39m\"\u001b[39m\u001b[39msubsets\u001b[39m\u001b[39m\"\u001b[39m]):\n\u001b[1;32m     91\u001b[0m     \u001b[39mself\u001b[39m\u001b[39m.\u001b[39m_paths\u001b[39m.\u001b[39mupdate({dictentryname: path\u001b[39m.\u001b[39mjoin(\u001b[39mself\u001b[39m\u001b[39m.\u001b[39m_paths[\u001b[39m\"\u001b[39m\u001b[39manalysis_path\u001b[39m\u001b[39m\"\u001b[39m], middlepath_dataset, foldername)})\n\u001b[0;32m---> 93\u001b[0m \u001b[39mself\u001b[39m\u001b[39m.\u001b[39m_paths\u001b[39m.\u001b[39mupdate({\u001b[39m\"\u001b[39m\u001b[39mexec_env_data_path\u001b[39m\u001b[39m\"\u001b[39m: path\u001b[39m.\u001b[39mjoin(\u001b[39mself\u001b[39;49m\u001b[39m.\u001b[39;49m_paths[\u001b[39m\"\u001b[39;49m\u001b[39mexec_env_path\u001b[39;49m\u001b[39m\"\u001b[39;49m], middlepath_dataset, datafoldername)})\n\u001b[1;32m     95\u001b[0m \u001b[39m# Set datapath (depends on data_root_path)\u001b[39;00m\n\u001b[1;32m     96\u001b[0m \u001b[39mif\u001b[39;00m \u001b[39mnot\u001b[39;00m path\u001b[39m.\u001b[39mbasename(path\u001b[39m.\u001b[39mnormpath(\u001b[39mself\u001b[39m\u001b[39m.\u001b[39m_paths[\u001b[39m\"\u001b[39m\u001b[39mdata_root_path\u001b[39m\u001b[39m\"\u001b[39m])) \u001b[39m==\u001b[39m \u001b[39m\"\u001b[39m\u001b[39m<default>\u001b[39m\u001b[39m\"\u001b[39m: \u001b[39m#if path not ends with <default>\u001b[39;00m\n",
      "\u001b[0;31mKeyError\u001b[0m: 'exec_env_path'"
     ]
    }
   ],
   "source": [
    "dc_dataset = sc_classes.Analysis.new_dataset(sc_classes.Baseanalysis, dcu.NfCore) \n",
    "analysis = sc_classes.Analysis(datasets=[\n",
    "            ('01', 'bulkRNA', 'human', dc_dataset)\n",
    "            ], params_path = path.abspath(\"./../../FUNKI/v01/analysis/\"))\n",
    "scl.analysis = analysis\n",
    "print_info(analysis)"
   ]
  },
  {
   "cell_type": "code",
   "execution_count": 8,
   "metadata": {},
   "outputs": [
    {
     "data": {
      "text/plain": [
       "{'analysis_path': './',\n",
       " 'data_root_path': '',\n",
       " 'datapath_tmp': './FUNKI/v01/analysis/human/bulkRNA/01/data',\n",
       " 'figpath': './FUNKI/v01/analysis/human/bulkRNA/01/figures',\n",
       " 'resultpath': './FUNKI/v01/analysis/human/bulkRNA/01/results',\n",
       " 'loggingpath': './FUNKI/v01/analysis/human/bulkRNA/01/logging',\n",
       " 'subsetspath': './FUNKI/v01/analysis/human/bulkRNA/01/subsets',\n",
       " 'exec_env_path': '/sds_hd/sd22b002/guest/',\n",
       " 'exec_env_data_path': '/sds_hd/sd22b002/guest/FUNKI/v01/analysis/human/bulkRNA/01/data',\n",
       " 'datapath': '',\n",
       " 'data_root_filename': '01.h5ad',\n",
       " 'datasetpath': 'FUNKI/v01/analysis/human/bulkRNA/01',\n",
       " 'datafilepath': '01.h5ad',\n",
       " 'metadatapath': 'metadata',\n",
       " 'datafilepath_tmp': './FUNKI/v01/analysis/human/bulkRNA/01/data/01.pickle',\n",
       " 'priorknowledge': './FUNKI/v01/analysis/human/bulkRNA/priorKnowledge',\n",
       " 'priorknowledge_tmp': './FUNKI/v01/analysis/human/bulkRNA/priorKnowledge'}"
      ]
     },
     "execution_count": 8,
     "metadata": {},
     "output_type": "execute_result"
    }
   ],
   "source": [
    "analysis.datasets[0].get_paths()\n"
   ]
  },
  {
   "cell_type": "code",
   "execution_count": 6,
   "metadata": {},
   "outputs": [
    {
     "data": {
      "text/plain": [
       "{'pets': {'snail': {'name': 'Schnucki',\n",
       "   'food': ['Löwenzahn', 'water'],\n",
       "   'sound': ['knusper']},\n",
       "  'dog': {'sound': ['kikerikii'], 'name': 'LittleWauWau'},\n",
       "  'cat': {'name': 'LittleWauWau',\n",
       "   'food': ['add', 'mice'],\n",
       "   'color': 'orange',\n",
       "   'child': {'babyCat': {'name': 'MiniMiez',\n",
       "     'food': ['milk'],\n",
       "     'color': 'yellow with pink dots'}},\n",
       "   'sound': ['kikerikii']}}}"
      ]
     },
     "execution_count": 6,
     "metadata": {},
     "output_type": "execute_result"
    }
   ],
   "source": [
    "dict_2 = {'pets': {'snail': {'name': 'Schnucki',  'food': ['Löwenzahn', 'water'], 'sound': ['knusper',]},\n",
    "                    'replacements_1': {'name': 'LittleWauWau','sound': ['kikerikii']},\n",
    "                   'dog': {'sound': ['wau', 'add', 'grrr']},\n",
    "                    'replacements_2': {'color': 'orange'},\n",
    "                    'cat': {'name': 'Miezy', 'food': ['add', 'mice'], 'color': 'pink & yellow stripes', 'child': {\n",
    "                         'babyCat': {'name': 'MiniMiez', 'food': ['milk'], 'color': 'yellow with pink dots'}}}}}\n",
    "dict_2=sc_funcs.replace_dictvalues(dict_2, 'replacements')\n",
    "sc_funcs.replace_dictvalues(dict_2, 'replacements')\n"
   ]
  },
  {
   "cell_type": "code",
   "execution_count": null,
   "metadata": {},
   "outputs": [],
   "source": []
  }
 ],
 "metadata": {
  "kernelspec": {
   "display_name": "sgui-4UjmygOT-py3.10",
   "language": "python",
   "name": "python3"
  },
  "language_info": {
   "codemirror_mode": {
    "name": "ipython",
    "version": 3
   },
   "file_extension": ".py",
   "mimetype": "text/x-python",
   "name": "python",
   "nbconvert_exporter": "python",
   "pygments_lexer": "ipython3",
   "version": "3.10.6"
  },
  "orig_nbformat": 4
 },
 "nbformat": 4,
 "nbformat_minor": 2
}
